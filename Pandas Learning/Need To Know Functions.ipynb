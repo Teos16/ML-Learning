{
 "cells": [
  {
   "cell_type": "code",
   "execution_count": 1,
   "metadata": {},
   "outputs": [],
   "source": [
    "import seaborn as sns\n",
    "import pandas as pd\n",
    "import numpy as np"
   ]
  },
  {
   "cell_type": "code",
   "execution_count": 2,
   "metadata": {},
   "outputs": [
    {
     "data": {
      "text/html": [
       "<div>\n",
       "<style scoped>\n",
       "    .dataframe tbody tr th:only-of-type {\n",
       "        vertical-align: middle;\n",
       "    }\n",
       "\n",
       "    .dataframe tbody tr th {\n",
       "        vertical-align: top;\n",
       "    }\n",
       "\n",
       "    .dataframe thead th {\n",
       "        text-align: right;\n",
       "    }\n",
       "</style>\n",
       "<table border=\"1\" class=\"dataframe\">\n",
       "  <thead>\n",
       "    <tr style=\"text-align: right;\">\n",
       "      <th></th>\n",
       "      <th>total_bill</th>\n",
       "      <th>tip</th>\n",
       "      <th>sex</th>\n",
       "      <th>smoker</th>\n",
       "      <th>day</th>\n",
       "      <th>time</th>\n",
       "      <th>size</th>\n",
       "    </tr>\n",
       "  </thead>\n",
       "  <tbody>\n",
       "    <tr>\n",
       "      <th>0</th>\n",
       "      <td>16.99</td>\n",
       "      <td>1.01</td>\n",
       "      <td>Female</td>\n",
       "      <td>No</td>\n",
       "      <td>Sun</td>\n",
       "      <td>Dinner</td>\n",
       "      <td>2</td>\n",
       "    </tr>\n",
       "    <tr>\n",
       "      <th>1</th>\n",
       "      <td>10.34</td>\n",
       "      <td>1.66</td>\n",
       "      <td>Male</td>\n",
       "      <td>No</td>\n",
       "      <td>Sun</td>\n",
       "      <td>Dinner</td>\n",
       "      <td>3</td>\n",
       "    </tr>\n",
       "    <tr>\n",
       "      <th>2</th>\n",
       "      <td>21.01</td>\n",
       "      <td>3.50</td>\n",
       "      <td>Male</td>\n",
       "      <td>No</td>\n",
       "      <td>Sun</td>\n",
       "      <td>Dinner</td>\n",
       "      <td>3</td>\n",
       "    </tr>\n",
       "    <tr>\n",
       "      <th>3</th>\n",
       "      <td>23.68</td>\n",
       "      <td>3.31</td>\n",
       "      <td>Male</td>\n",
       "      <td>No</td>\n",
       "      <td>Sun</td>\n",
       "      <td>Dinner</td>\n",
       "      <td>2</td>\n",
       "    </tr>\n",
       "    <tr>\n",
       "      <th>4</th>\n",
       "      <td>24.59</td>\n",
       "      <td>3.61</td>\n",
       "      <td>Female</td>\n",
       "      <td>No</td>\n",
       "      <td>Sun</td>\n",
       "      <td>Dinner</td>\n",
       "      <td>4</td>\n",
       "    </tr>\n",
       "  </tbody>\n",
       "</table>\n",
       "</div>"
      ],
      "text/plain": [
       "   total_bill   tip     sex smoker  day    time  size\n",
       "0       16.99  1.01  Female     No  Sun  Dinner     2\n",
       "1       10.34  1.66    Male     No  Sun  Dinner     3\n",
       "2       21.01  3.50    Male     No  Sun  Dinner     3\n",
       "3       23.68  3.31    Male     No  Sun  Dinner     2\n",
       "4       24.59  3.61  Female     No  Sun  Dinner     4"
      ]
     },
     "execution_count": 2,
     "metadata": {},
     "output_type": "execute_result"
    }
   ],
   "source": [
    "tips = sns.load_dataset('tips')\n",
    "tips.head()"
   ]
  },
  {
   "cell_type": "markdown",
   "metadata": {},
   "source": [
    "# SAMPLE"
   ]
  },
  {
   "cell_type": "markdown",
   "metadata": {},
   "source": [
    "Let's you get samples from a dtaframe in a pretty powerful diverse way"
   ]
  },
  {
   "cell_type": "code",
   "execution_count": 3,
   "metadata": {},
   "outputs": [
    {
     "data": {
      "text/html": [
       "<div>\n",
       "<style scoped>\n",
       "    .dataframe tbody tr th:only-of-type {\n",
       "        vertical-align: middle;\n",
       "    }\n",
       "\n",
       "    .dataframe tbody tr th {\n",
       "        vertical-align: top;\n",
       "    }\n",
       "\n",
       "    .dataframe thead th {\n",
       "        text-align: right;\n",
       "    }\n",
       "</style>\n",
       "<table border=\"1\" class=\"dataframe\">\n",
       "  <thead>\n",
       "    <tr style=\"text-align: right;\">\n",
       "      <th></th>\n",
       "      <th>total_bill</th>\n",
       "      <th>tip</th>\n",
       "      <th>sex</th>\n",
       "      <th>smoker</th>\n",
       "      <th>day</th>\n",
       "      <th>time</th>\n",
       "      <th>size</th>\n",
       "    </tr>\n",
       "  </thead>\n",
       "  <tbody>\n",
       "    <tr>\n",
       "      <th>65</th>\n",
       "      <td>20.08</td>\n",
       "      <td>3.15</td>\n",
       "      <td>Male</td>\n",
       "      <td>No</td>\n",
       "      <td>Sat</td>\n",
       "      <td>Dinner</td>\n",
       "      <td>3</td>\n",
       "    </tr>\n",
       "    <tr>\n",
       "      <th>59</th>\n",
       "      <td>48.27</td>\n",
       "      <td>6.73</td>\n",
       "      <td>Male</td>\n",
       "      <td>No</td>\n",
       "      <td>Sat</td>\n",
       "      <td>Dinner</td>\n",
       "      <td>4</td>\n",
       "    </tr>\n",
       "    <tr>\n",
       "      <th>198</th>\n",
       "      <td>13.00</td>\n",
       "      <td>2.00</td>\n",
       "      <td>Female</td>\n",
       "      <td>Yes</td>\n",
       "      <td>Thur</td>\n",
       "      <td>Lunch</td>\n",
       "      <td>2</td>\n",
       "    </tr>\n",
       "    <tr>\n",
       "      <th>87</th>\n",
       "      <td>18.28</td>\n",
       "      <td>4.00</td>\n",
       "      <td>Male</td>\n",
       "      <td>No</td>\n",
       "      <td>Thur</td>\n",
       "      <td>Lunch</td>\n",
       "      <td>2</td>\n",
       "    </tr>\n",
       "    <tr>\n",
       "      <th>142</th>\n",
       "      <td>41.19</td>\n",
       "      <td>5.00</td>\n",
       "      <td>Male</td>\n",
       "      <td>No</td>\n",
       "      <td>Thur</td>\n",
       "      <td>Lunch</td>\n",
       "      <td>5</td>\n",
       "    </tr>\n",
       "  </tbody>\n",
       "</table>\n",
       "</div>"
      ],
      "text/plain": [
       "     total_bill   tip     sex smoker   day    time  size\n",
       "65        20.08  3.15    Male     No   Sat  Dinner     3\n",
       "59        48.27  6.73    Male     No   Sat  Dinner     4\n",
       "198       13.00  2.00  Female    Yes  Thur   Lunch     2\n",
       "87        18.28  4.00    Male     No  Thur   Lunch     2\n",
       "142       41.19  5.00    Male     No  Thur   Lunch     5"
      ]
     },
     "execution_count": 3,
     "metadata": {},
     "output_type": "execute_result"
    }
   ],
   "source": [
    "tips.sample(5)"
   ]
  },
  {
   "cell_type": "code",
   "execution_count": 4,
   "metadata": {},
   "outputs": [],
   "source": [
    "tips.sample?"
   ]
  },
  {
   "cell_type": "markdown",
   "metadata": {},
   "source": [
    "# ISIN"
   ]
  },
  {
   "cell_type": "markdown",
   "metadata": {},
   "source": [
    "It is applied to an entire column and is very useful in selecting specific rows"
   ]
  },
  {
   "cell_type": "code",
   "execution_count": 5,
   "metadata": {},
   "outputs": [
    {
     "data": {
      "text/plain": [
       "0       True\n",
       "1       True\n",
       "2       True\n",
       "3       True\n",
       "4       True\n",
       "       ...  \n",
       "239     True\n",
       "240     True\n",
       "241     True\n",
       "242     True\n",
       "243    False\n",
       "Name: day, Length: 244, dtype: bool"
      ]
     },
     "execution_count": 5,
     "metadata": {},
     "output_type": "execute_result"
    }
   ],
   "source": [
    "is_weekend = tips.day.isin([\"Sat\", \"Sun\"])\n",
    "is_weekend"
   ]
  },
  {
   "cell_type": "code",
   "execution_count": 6,
   "metadata": {},
   "outputs": [
    {
     "data": {
      "text/html": [
       "<div>\n",
       "<style scoped>\n",
       "    .dataframe tbody tr th:only-of-type {\n",
       "        vertical-align: middle;\n",
       "    }\n",
       "\n",
       "    .dataframe tbody tr th {\n",
       "        vertical-align: top;\n",
       "    }\n",
       "\n",
       "    .dataframe thead th {\n",
       "        text-align: right;\n",
       "    }\n",
       "</style>\n",
       "<table border=\"1\" class=\"dataframe\">\n",
       "  <thead>\n",
       "    <tr style=\"text-align: right;\">\n",
       "      <th></th>\n",
       "      <th>total_bill</th>\n",
       "      <th>tip</th>\n",
       "      <th>sex</th>\n",
       "      <th>smoker</th>\n",
       "      <th>day</th>\n",
       "      <th>time</th>\n",
       "      <th>size</th>\n",
       "    </tr>\n",
       "  </thead>\n",
       "  <tbody>\n",
       "    <tr>\n",
       "      <th>108</th>\n",
       "      <td>18.24</td>\n",
       "      <td>3.76</td>\n",
       "      <td>Male</td>\n",
       "      <td>No</td>\n",
       "      <td>Sat</td>\n",
       "      <td>Dinner</td>\n",
       "      <td>2</td>\n",
       "    </tr>\n",
       "    <tr>\n",
       "      <th>208</th>\n",
       "      <td>24.27</td>\n",
       "      <td>2.03</td>\n",
       "      <td>Male</td>\n",
       "      <td>Yes</td>\n",
       "      <td>Sat</td>\n",
       "      <td>Dinner</td>\n",
       "      <td>2</td>\n",
       "    </tr>\n",
       "    <tr>\n",
       "      <th>168</th>\n",
       "      <td>10.59</td>\n",
       "      <td>1.61</td>\n",
       "      <td>Female</td>\n",
       "      <td>Yes</td>\n",
       "      <td>Sat</td>\n",
       "      <td>Dinner</td>\n",
       "      <td>2</td>\n",
       "    </tr>\n",
       "    <tr>\n",
       "      <th>24</th>\n",
       "      <td>19.82</td>\n",
       "      <td>3.18</td>\n",
       "      <td>Male</td>\n",
       "      <td>No</td>\n",
       "      <td>Sat</td>\n",
       "      <td>Dinner</td>\n",
       "      <td>2</td>\n",
       "    </tr>\n",
       "    <tr>\n",
       "      <th>111</th>\n",
       "      <td>7.25</td>\n",
       "      <td>1.00</td>\n",
       "      <td>Female</td>\n",
       "      <td>No</td>\n",
       "      <td>Sat</td>\n",
       "      <td>Dinner</td>\n",
       "      <td>1</td>\n",
       "    </tr>\n",
       "  </tbody>\n",
       "</table>\n",
       "</div>"
      ],
      "text/plain": [
       "     total_bill   tip     sex smoker  day    time  size\n",
       "108       18.24  3.76    Male     No  Sat  Dinner     2\n",
       "208       24.27  2.03    Male    Yes  Sat  Dinner     2\n",
       "168       10.59  1.61  Female    Yes  Sat  Dinner     2\n",
       "24        19.82  3.18    Male     No  Sat  Dinner     2\n",
       "111        7.25  1.00  Female     No  Sat  Dinner     1"
      ]
     },
     "execution_count": 6,
     "metadata": {},
     "output_type": "execute_result"
    }
   ],
   "source": [
    "tips[is_weekend].sample(5)"
   ]
  },
  {
   "cell_type": "code",
   "execution_count": 7,
   "metadata": {},
   "outputs": [],
   "source": [
    "tips.isin?"
   ]
  },
  {
   "cell_type": "markdown",
   "metadata": {},
   "source": [
    "# DROP_DUBLICATES"
   ]
  },
  {
   "cell_type": "markdown",
   "metadata": {},
   "source": [
    "Works on more than one column"
   ]
  },
  {
   "cell_type": "code",
   "execution_count": 8,
   "metadata": {},
   "outputs": [
    {
     "data": {
      "text/html": [
       "<div>\n",
       "<style scoped>\n",
       "    .dataframe tbody tr th:only-of-type {\n",
       "        vertical-align: middle;\n",
       "    }\n",
       "\n",
       "    .dataframe tbody tr th {\n",
       "        vertical-align: top;\n",
       "    }\n",
       "\n",
       "    .dataframe thead th {\n",
       "        text-align: right;\n",
       "    }\n",
       "</style>\n",
       "<table border=\"1\" class=\"dataframe\">\n",
       "  <thead>\n",
       "    <tr style=\"text-align: right;\">\n",
       "      <th></th>\n",
       "      <th>time</th>\n",
       "      <th>day</th>\n",
       "    </tr>\n",
       "  </thead>\n",
       "  <tbody>\n",
       "    <tr>\n",
       "      <th>0</th>\n",
       "      <td>Dinner</td>\n",
       "      <td>Sun</td>\n",
       "    </tr>\n",
       "    <tr>\n",
       "      <th>19</th>\n",
       "      <td>Dinner</td>\n",
       "      <td>Sat</td>\n",
       "    </tr>\n",
       "    <tr>\n",
       "      <th>77</th>\n",
       "      <td>Lunch</td>\n",
       "      <td>Thur</td>\n",
       "    </tr>\n",
       "    <tr>\n",
       "      <th>90</th>\n",
       "      <td>Dinner</td>\n",
       "      <td>Fri</td>\n",
       "    </tr>\n",
       "    <tr>\n",
       "      <th>220</th>\n",
       "      <td>Lunch</td>\n",
       "      <td>Fri</td>\n",
       "    </tr>\n",
       "    <tr>\n",
       "      <th>243</th>\n",
       "      <td>Dinner</td>\n",
       "      <td>Thur</td>\n",
       "    </tr>\n",
       "  </tbody>\n",
       "</table>\n",
       "</div>"
      ],
      "text/plain": [
       "       time   day\n",
       "0    Dinner   Sun\n",
       "19   Dinner   Sat\n",
       "77    Lunch  Thur\n",
       "90   Dinner   Fri\n",
       "220   Lunch   Fri\n",
       "243  Dinner  Thur"
      ]
     },
     "execution_count": 8,
     "metadata": {},
     "output_type": "execute_result"
    }
   ],
   "source": [
    "tips[[\"time\", \"day\"]].drop_duplicates(keep=\"first\")"
   ]
  },
  {
   "cell_type": "markdown",
   "metadata": {},
   "source": [
    "# CUT"
   ]
  },
  {
   "cell_type": "markdown",
   "metadata": {},
   "source": [
    "This will cut your numeric data into equal buckets and then assign them labels depending on the bucket"
   ]
  },
  {
   "cell_type": "code",
   "execution_count": 9,
   "metadata": {},
   "outputs": [
    {
     "data": {
      "text/plain": [
       "0      low\n",
       "1      low\n",
       "2      mid\n",
       "3      mid\n",
       "4      mid\n",
       "5      mid\n",
       "6      low\n",
       "7      mid\n",
       "8      low\n",
       "9      low\n",
       "10     low\n",
       "11    high\n",
       "12     low\n",
       "13     low\n",
       "14     low\n",
       "Name: total_bill, dtype: category\n",
       "Categories (3, object): ['low' < 'mid' < 'high']"
      ]
     },
     "execution_count": 9,
     "metadata": {},
     "output_type": "execute_result"
    }
   ],
   "source": [
    "pd.cut(tips[\"total_bill\"], 3, labels=[\"low\", \"mid\", \"high\"]).head(15)"
   ]
  },
  {
   "cell_type": "markdown",
   "metadata": {},
   "source": [
    "# STR"
   ]
  },
  {
   "cell_type": "code",
   "execution_count": 10,
   "metadata": {},
   "outputs": [
    {
     "data": {
      "text/plain": [
       "0    female\n",
       "1      male\n",
       "2      male\n",
       "3      male\n",
       "4    female\n",
       "Name: sex, dtype: object"
      ]
     },
     "execution_count": 10,
     "metadata": {},
     "output_type": "execute_result"
    }
   ],
   "source": [
    "tips.sex.str.lower().head()"
   ]
  },
  {
   "cell_type": "markdown",
   "metadata": {},
   "source": [
    "# NaNs"
   ]
  },
  {
   "cell_type": "code",
   "execution_count": 11,
   "metadata": {},
   "outputs": [
    {
     "data": {
      "text/plain": [
       "total_bill    0\n",
       "tip           0\n",
       "sex           0\n",
       "smoker        0\n",
       "day           0\n",
       "time          0\n",
       "size          0\n",
       "dtype: int64"
      ]
     },
     "execution_count": 11,
     "metadata": {},
     "output_type": "execute_result"
    }
   ],
   "source": [
    "tips.isna().sum()"
   ]
  },
  {
   "cell_type": "code",
   "execution_count": 12,
   "metadata": {},
   "outputs": [],
   "source": [
    "tips.tip.fillna(0, inplace=True)"
   ]
  },
  {
   "cell_type": "code",
   "execution_count": 13,
   "metadata": {},
   "outputs": [],
   "source": [
    "tips.dropna(axis=1, how=\"any\", inplace=True)"
   ]
  },
  {
   "cell_type": "markdown",
   "metadata": {},
   "source": [
    "# CORR"
   ]
  },
  {
   "cell_type": "code",
   "execution_count": 14,
   "metadata": {},
   "outputs": [
    {
     "data": {
      "text/html": [
       "<div>\n",
       "<style scoped>\n",
       "    .dataframe tbody tr th:only-of-type {\n",
       "        vertical-align: middle;\n",
       "    }\n",
       "\n",
       "    .dataframe tbody tr th {\n",
       "        vertical-align: top;\n",
       "    }\n",
       "\n",
       "    .dataframe thead th {\n",
       "        text-align: right;\n",
       "    }\n",
       "</style>\n",
       "<table border=\"1\" class=\"dataframe\">\n",
       "  <thead>\n",
       "    <tr style=\"text-align: right;\">\n",
       "      <th></th>\n",
       "      <th>total_bill</th>\n",
       "      <th>tip</th>\n",
       "      <th>size</th>\n",
       "    </tr>\n",
       "  </thead>\n",
       "  <tbody>\n",
       "    <tr>\n",
       "      <th>total_bill</th>\n",
       "      <td>1.000000</td>\n",
       "      <td>0.675734</td>\n",
       "      <td>0.598315</td>\n",
       "    </tr>\n",
       "    <tr>\n",
       "      <th>tip</th>\n",
       "      <td>0.675734</td>\n",
       "      <td>1.000000</td>\n",
       "      <td>0.489299</td>\n",
       "    </tr>\n",
       "    <tr>\n",
       "      <th>size</th>\n",
       "      <td>0.598315</td>\n",
       "      <td>0.489299</td>\n",
       "      <td>1.000000</td>\n",
       "    </tr>\n",
       "  </tbody>\n",
       "</table>\n",
       "</div>"
      ],
      "text/plain": [
       "            total_bill       tip      size\n",
       "total_bill    1.000000  0.675734  0.598315\n",
       "tip           0.675734  1.000000  0.489299\n",
       "size          0.598315  0.489299  1.000000"
      ]
     },
     "execution_count": 14,
     "metadata": {},
     "output_type": "execute_result"
    }
   ],
   "source": [
    "tips.corr()"
   ]
  },
  {
   "cell_type": "code",
   "execution_count": 15,
   "metadata": {},
   "outputs": [
    {
     "data": {
      "text/html": [
       "<div>\n",
       "<style scoped>\n",
       "    .dataframe tbody tr th:only-of-type {\n",
       "        vertical-align: middle;\n",
       "    }\n",
       "\n",
       "    .dataframe tbody tr th {\n",
       "        vertical-align: top;\n",
       "    }\n",
       "\n",
       "    .dataframe thead th {\n",
       "        text-align: right;\n",
       "    }\n",
       "</style>\n",
       "<table border=\"1\" class=\"dataframe\">\n",
       "  <thead>\n",
       "    <tr style=\"text-align: right;\">\n",
       "      <th></th>\n",
       "      <th>total_bill</th>\n",
       "      <th>tip</th>\n",
       "    </tr>\n",
       "  </thead>\n",
       "  <tbody>\n",
       "    <tr>\n",
       "      <th>total_bill</th>\n",
       "      <td>1.000000</td>\n",
       "      <td>0.675734</td>\n",
       "    </tr>\n",
       "    <tr>\n",
       "      <th>tip</th>\n",
       "      <td>0.675734</td>\n",
       "      <td>1.000000</td>\n",
       "    </tr>\n",
       "  </tbody>\n",
       "</table>\n",
       "</div>"
      ],
      "text/plain": [
       "            total_bill       tip\n",
       "total_bill    1.000000  0.675734\n",
       "tip           0.675734  1.000000"
      ]
     },
     "execution_count": 15,
     "metadata": {},
     "output_type": "execute_result"
    }
   ],
   "source": [
    "tips[[\"total_bill\", \"tip\"]].corr()"
   ]
  },
  {
   "cell_type": "markdown",
   "metadata": {},
   "source": [
    "# RANK"
   ]
  },
  {
   "cell_type": "markdown",
   "metadata": {},
   "source": [
    "This will calculate what rank each entry is in the column"
   ]
  },
  {
   "cell_type": "code",
   "execution_count": 16,
   "metadata": {},
   "outputs": [
    {
     "data": {
      "text/plain": [
       "0      5.0\n",
       "1     33.0\n",
       "2    177.0\n",
       "3    165.0\n",
       "4    185.0\n",
       "Name: tip, dtype: float64"
      ]
     },
     "execution_count": 16,
     "metadata": {},
     "output_type": "execute_result"
    }
   ],
   "source": [
    "tips.tip.rank().head()"
   ]
  },
  {
   "cell_type": "markdown",
   "metadata": {},
   "source": [
    "# RENAME"
   ]
  },
  {
   "cell_type": "code",
   "execution_count": 17,
   "metadata": {},
   "outputs": [],
   "source": [
    "tips.rename(columns={\"total_bill\": \"bill\"}, inplace=True)"
   ]
  },
  {
   "cell_type": "code",
   "execution_count": 18,
   "metadata": {},
   "outputs": [
    {
     "data": {
      "text/html": [
       "<div>\n",
       "<style scoped>\n",
       "    .dataframe tbody tr th:only-of-type {\n",
       "        vertical-align: middle;\n",
       "    }\n",
       "\n",
       "    .dataframe tbody tr th {\n",
       "        vertical-align: top;\n",
       "    }\n",
       "\n",
       "    .dataframe thead th {\n",
       "        text-align: right;\n",
       "    }\n",
       "</style>\n",
       "<table border=\"1\" class=\"dataframe\">\n",
       "  <thead>\n",
       "    <tr style=\"text-align: right;\">\n",
       "      <th></th>\n",
       "      <th>bill</th>\n",
       "      <th>tip</th>\n",
       "      <th>sex</th>\n",
       "      <th>smoker</th>\n",
       "      <th>day</th>\n",
       "      <th>time</th>\n",
       "      <th>size</th>\n",
       "    </tr>\n",
       "  </thead>\n",
       "  <tbody>\n",
       "    <tr>\n",
       "      <th>0</th>\n",
       "      <td>16.99</td>\n",
       "      <td>1.01</td>\n",
       "      <td>Female</td>\n",
       "      <td>No</td>\n",
       "      <td>Sun</td>\n",
       "      <td>Dinner</td>\n",
       "      <td>2</td>\n",
       "    </tr>\n",
       "    <tr>\n",
       "      <th>1</th>\n",
       "      <td>10.34</td>\n",
       "      <td>1.66</td>\n",
       "      <td>Male</td>\n",
       "      <td>No</td>\n",
       "      <td>Sun</td>\n",
       "      <td>Dinner</td>\n",
       "      <td>3</td>\n",
       "    </tr>\n",
       "    <tr>\n",
       "      <th>2</th>\n",
       "      <td>21.01</td>\n",
       "      <td>3.50</td>\n",
       "      <td>Male</td>\n",
       "      <td>No</td>\n",
       "      <td>Sun</td>\n",
       "      <td>Dinner</td>\n",
       "      <td>3</td>\n",
       "    </tr>\n",
       "    <tr>\n",
       "      <th>3</th>\n",
       "      <td>23.68</td>\n",
       "      <td>3.31</td>\n",
       "      <td>Male</td>\n",
       "      <td>No</td>\n",
       "      <td>Sun</td>\n",
       "      <td>Dinner</td>\n",
       "      <td>2</td>\n",
       "    </tr>\n",
       "    <tr>\n",
       "      <th>4</th>\n",
       "      <td>24.59</td>\n",
       "      <td>3.61</td>\n",
       "      <td>Female</td>\n",
       "      <td>No</td>\n",
       "      <td>Sun</td>\n",
       "      <td>Dinner</td>\n",
       "      <td>4</td>\n",
       "    </tr>\n",
       "    <tr>\n",
       "      <th>...</th>\n",
       "      <td>...</td>\n",
       "      <td>...</td>\n",
       "      <td>...</td>\n",
       "      <td>...</td>\n",
       "      <td>...</td>\n",
       "      <td>...</td>\n",
       "      <td>...</td>\n",
       "    </tr>\n",
       "    <tr>\n",
       "      <th>239</th>\n",
       "      <td>29.03</td>\n",
       "      <td>5.92</td>\n",
       "      <td>Male</td>\n",
       "      <td>No</td>\n",
       "      <td>Sat</td>\n",
       "      <td>Dinner</td>\n",
       "      <td>3</td>\n",
       "    </tr>\n",
       "    <tr>\n",
       "      <th>240</th>\n",
       "      <td>27.18</td>\n",
       "      <td>2.00</td>\n",
       "      <td>Female</td>\n",
       "      <td>Yes</td>\n",
       "      <td>Sat</td>\n",
       "      <td>Dinner</td>\n",
       "      <td>2</td>\n",
       "    </tr>\n",
       "    <tr>\n",
       "      <th>241</th>\n",
       "      <td>22.67</td>\n",
       "      <td>2.00</td>\n",
       "      <td>Male</td>\n",
       "      <td>Yes</td>\n",
       "      <td>Sat</td>\n",
       "      <td>Dinner</td>\n",
       "      <td>2</td>\n",
       "    </tr>\n",
       "    <tr>\n",
       "      <th>242</th>\n",
       "      <td>17.82</td>\n",
       "      <td>1.75</td>\n",
       "      <td>Male</td>\n",
       "      <td>No</td>\n",
       "      <td>Sat</td>\n",
       "      <td>Dinner</td>\n",
       "      <td>2</td>\n",
       "    </tr>\n",
       "    <tr>\n",
       "      <th>243</th>\n",
       "      <td>18.78</td>\n",
       "      <td>3.00</td>\n",
       "      <td>Female</td>\n",
       "      <td>No</td>\n",
       "      <td>Thur</td>\n",
       "      <td>Dinner</td>\n",
       "      <td>2</td>\n",
       "    </tr>\n",
       "  </tbody>\n",
       "</table>\n",
       "<p>244 rows × 7 columns</p>\n",
       "</div>"
      ],
      "text/plain": [
       "      bill   tip     sex smoker   day    time  size\n",
       "0    16.99  1.01  Female     No   Sun  Dinner     2\n",
       "1    10.34  1.66    Male     No   Sun  Dinner     3\n",
       "2    21.01  3.50    Male     No   Sun  Dinner     3\n",
       "3    23.68  3.31    Male     No   Sun  Dinner     2\n",
       "4    24.59  3.61  Female     No   Sun  Dinner     4\n",
       "..     ...   ...     ...    ...   ...     ...   ...\n",
       "239  29.03  5.92    Male     No   Sat  Dinner     3\n",
       "240  27.18  2.00  Female    Yes   Sat  Dinner     2\n",
       "241  22.67  2.00    Male    Yes   Sat  Dinner     2\n",
       "242  17.82  1.75    Male     No   Sat  Dinner     2\n",
       "243  18.78  3.00  Female     No  Thur  Dinner     2\n",
       "\n",
       "[244 rows x 7 columns]"
      ]
     },
     "execution_count": 18,
     "metadata": {},
     "output_type": "execute_result"
    }
   ],
   "source": [
    "tips"
   ]
  },
  {
   "cell_type": "markdown",
   "metadata": {},
   "source": [
    "# ITERTUPLES"
   ]
  },
  {
   "cell_type": "markdown",
   "metadata": {},
   "source": [
    "Can be used for small dataframes"
   ]
  },
  {
   "cell_type": "code",
   "execution_count": 19,
   "metadata": {},
   "outputs": [
    {
     "name": "stdout",
     "output_type": "stream",
     "text": [
      "Pandas(Index=0, bill=16.99, tip=1.01, sex='Female', smoker='No', day='Sun', time='Dinner', size=2)\n",
      "Pandas(Index=1, bill=10.34, tip=1.66, sex='Male', smoker='No', day='Sun', time='Dinner', size=3)\n",
      "Pandas(Index=2, bill=21.01, tip=3.5, sex='Male', smoker='No', day='Sun', time='Dinner', size=3)\n",
      "Pandas(Index=3, bill=23.68, tip=3.31, sex='Male', smoker='No', day='Sun', time='Dinner', size=2)\n",
      "Pandas(Index=4, bill=24.59, tip=3.61, sex='Female', smoker='No', day='Sun', time='Dinner', size=4)\n",
      "Pandas(Index=5, bill=25.29, tip=4.71, sex='Male', smoker='No', day='Sun', time='Dinner', size=4)\n",
      "Pandas(Index=6, bill=8.77, tip=2.0, sex='Male', smoker='No', day='Sun', time='Dinner', size=2)\n",
      "Pandas(Index=7, bill=26.88, tip=3.12, sex='Male', smoker='No', day='Sun', time='Dinner', size=4)\n",
      "Pandas(Index=8, bill=15.04, tip=1.96, sex='Male', smoker='No', day='Sun', time='Dinner', size=2)\n",
      "Pandas(Index=9, bill=14.78, tip=3.23, sex='Male', smoker='No', day='Sun', time='Dinner', size=2)\n",
      "Pandas(Index=10, bill=10.27, tip=1.71, sex='Male', smoker='No', day='Sun', time='Dinner', size=2)\n",
      "Pandas(Index=11, bill=35.26, tip=5.0, sex='Female', smoker='No', day='Sun', time='Dinner', size=4)\n",
      "Pandas(Index=12, bill=15.42, tip=1.57, sex='Male', smoker='No', day='Sun', time='Dinner', size=2)\n",
      "Pandas(Index=13, bill=18.43, tip=3.0, sex='Male', smoker='No', day='Sun', time='Dinner', size=4)\n",
      "Pandas(Index=14, bill=14.83, tip=3.02, sex='Female', smoker='No', day='Sun', time='Dinner', size=2)\n",
      "Pandas(Index=15, bill=21.58, tip=3.92, sex='Male', smoker='No', day='Sun', time='Dinner', size=2)\n",
      "Pandas(Index=16, bill=10.33, tip=1.67, sex='Female', smoker='No', day='Sun', time='Dinner', size=3)\n",
      "Pandas(Index=17, bill=16.29, tip=3.71, sex='Male', smoker='No', day='Sun', time='Dinner', size=3)\n",
      "Pandas(Index=18, bill=16.97, tip=3.5, sex='Female', smoker='No', day='Sun', time='Dinner', size=3)\n",
      "Pandas(Index=19, bill=20.65, tip=3.35, sex='Male', smoker='No', day='Sat', time='Dinner', size=3)\n",
      "Pandas(Index=20, bill=17.92, tip=4.08, sex='Male', smoker='No', day='Sat', time='Dinner', size=2)\n",
      "Pandas(Index=21, bill=20.29, tip=2.75, sex='Female', smoker='No', day='Sat', time='Dinner', size=2)\n",
      "Pandas(Index=22, bill=15.77, tip=2.23, sex='Female', smoker='No', day='Sat', time='Dinner', size=2)\n",
      "Pandas(Index=23, bill=39.42, tip=7.58, sex='Male', smoker='No', day='Sat', time='Dinner', size=4)\n",
      "Pandas(Index=24, bill=19.82, tip=3.18, sex='Male', smoker='No', day='Sat', time='Dinner', size=2)\n",
      "Pandas(Index=25, bill=17.81, tip=2.34, sex='Male', smoker='No', day='Sat', time='Dinner', size=4)\n",
      "Pandas(Index=26, bill=13.37, tip=2.0, sex='Male', smoker='No', day='Sat', time='Dinner', size=2)\n",
      "Pandas(Index=27, bill=12.69, tip=2.0, sex='Male', smoker='No', day='Sat', time='Dinner', size=2)\n",
      "Pandas(Index=28, bill=21.7, tip=4.3, sex='Male', smoker='No', day='Sat', time='Dinner', size=2)\n",
      "Pandas(Index=29, bill=19.65, tip=3.0, sex='Female', smoker='No', day='Sat', time='Dinner', size=2)\n",
      "Pandas(Index=30, bill=9.55, tip=1.45, sex='Male', smoker='No', day='Sat', time='Dinner', size=2)\n",
      "Pandas(Index=31, bill=18.35, tip=2.5, sex='Male', smoker='No', day='Sat', time='Dinner', size=4)\n",
      "Pandas(Index=32, bill=15.06, tip=3.0, sex='Female', smoker='No', day='Sat', time='Dinner', size=2)\n",
      "Pandas(Index=33, bill=20.69, tip=2.45, sex='Female', smoker='No', day='Sat', time='Dinner', size=4)\n",
      "Pandas(Index=34, bill=17.78, tip=3.27, sex='Male', smoker='No', day='Sat', time='Dinner', size=2)\n",
      "Pandas(Index=35, bill=24.06, tip=3.6, sex='Male', smoker='No', day='Sat', time='Dinner', size=3)\n",
      "Pandas(Index=36, bill=16.31, tip=2.0, sex='Male', smoker='No', day='Sat', time='Dinner', size=3)\n",
      "Pandas(Index=37, bill=16.93, tip=3.07, sex='Female', smoker='No', day='Sat', time='Dinner', size=3)\n",
      "Pandas(Index=38, bill=18.69, tip=2.31, sex='Male', smoker='No', day='Sat', time='Dinner', size=3)\n",
      "Pandas(Index=39, bill=31.27, tip=5.0, sex='Male', smoker='No', day='Sat', time='Dinner', size=3)\n",
      "Pandas(Index=40, bill=16.04, tip=2.24, sex='Male', smoker='No', day='Sat', time='Dinner', size=3)\n",
      "Pandas(Index=41, bill=17.46, tip=2.54, sex='Male', smoker='No', day='Sun', time='Dinner', size=2)\n",
      "Pandas(Index=42, bill=13.94, tip=3.06, sex='Male', smoker='No', day='Sun', time='Dinner', size=2)\n",
      "Pandas(Index=43, bill=9.68, tip=1.32, sex='Male', smoker='No', day='Sun', time='Dinner', size=2)\n",
      "Pandas(Index=44, bill=30.4, tip=5.6, sex='Male', smoker='No', day='Sun', time='Dinner', size=4)\n",
      "Pandas(Index=45, bill=18.29, tip=3.0, sex='Male', smoker='No', day='Sun', time='Dinner', size=2)\n",
      "Pandas(Index=46, bill=22.23, tip=5.0, sex='Male', smoker='No', day='Sun', time='Dinner', size=2)\n",
      "Pandas(Index=47, bill=32.4, tip=6.0, sex='Male', smoker='No', day='Sun', time='Dinner', size=4)\n",
      "Pandas(Index=48, bill=28.55, tip=2.05, sex='Male', smoker='No', day='Sun', time='Dinner', size=3)\n",
      "Pandas(Index=49, bill=18.04, tip=3.0, sex='Male', smoker='No', day='Sun', time='Dinner', size=2)\n",
      "Pandas(Index=50, bill=12.54, tip=2.5, sex='Male', smoker='No', day='Sun', time='Dinner', size=2)\n",
      "Pandas(Index=51, bill=10.29, tip=2.6, sex='Female', smoker='No', day='Sun', time='Dinner', size=2)\n",
      "Pandas(Index=52, bill=34.81, tip=5.2, sex='Female', smoker='No', day='Sun', time='Dinner', size=4)\n",
      "Pandas(Index=53, bill=9.94, tip=1.56, sex='Male', smoker='No', day='Sun', time='Dinner', size=2)\n",
      "Pandas(Index=54, bill=25.56, tip=4.34, sex='Male', smoker='No', day='Sun', time='Dinner', size=4)\n",
      "Pandas(Index=55, bill=19.49, tip=3.51, sex='Male', smoker='No', day='Sun', time='Dinner', size=2)\n",
      "Pandas(Index=56, bill=38.01, tip=3.0, sex='Male', smoker='Yes', day='Sat', time='Dinner', size=4)\n",
      "Pandas(Index=57, bill=26.41, tip=1.5, sex='Female', smoker='No', day='Sat', time='Dinner', size=2)\n",
      "Pandas(Index=58, bill=11.24, tip=1.76, sex='Male', smoker='Yes', day='Sat', time='Dinner', size=2)\n",
      "Pandas(Index=59, bill=48.27, tip=6.73, sex='Male', smoker='No', day='Sat', time='Dinner', size=4)\n",
      "Pandas(Index=60, bill=20.29, tip=3.21, sex='Male', smoker='Yes', day='Sat', time='Dinner', size=2)\n",
      "Pandas(Index=61, bill=13.81, tip=2.0, sex='Male', smoker='Yes', day='Sat', time='Dinner', size=2)\n",
      "Pandas(Index=62, bill=11.02, tip=1.98, sex='Male', smoker='Yes', day='Sat', time='Dinner', size=2)\n",
      "Pandas(Index=63, bill=18.29, tip=3.76, sex='Male', smoker='Yes', day='Sat', time='Dinner', size=4)\n",
      "Pandas(Index=64, bill=17.59, tip=2.64, sex='Male', smoker='No', day='Sat', time='Dinner', size=3)\n",
      "Pandas(Index=65, bill=20.08, tip=3.15, sex='Male', smoker='No', day='Sat', time='Dinner', size=3)\n",
      "Pandas(Index=66, bill=16.45, tip=2.47, sex='Female', smoker='No', day='Sat', time='Dinner', size=2)\n",
      "Pandas(Index=67, bill=3.07, tip=1.0, sex='Female', smoker='Yes', day='Sat', time='Dinner', size=1)\n",
      "Pandas(Index=68, bill=20.23, tip=2.01, sex='Male', smoker='No', day='Sat', time='Dinner', size=2)\n",
      "Pandas(Index=69, bill=15.01, tip=2.09, sex='Male', smoker='Yes', day='Sat', time='Dinner', size=2)\n",
      "Pandas(Index=70, bill=12.02, tip=1.97, sex='Male', smoker='No', day='Sat', time='Dinner', size=2)\n",
      "Pandas(Index=71, bill=17.07, tip=3.0, sex='Female', smoker='No', day='Sat', time='Dinner', size=3)\n",
      "Pandas(Index=72, bill=26.86, tip=3.14, sex='Female', smoker='Yes', day='Sat', time='Dinner', size=2)\n",
      "Pandas(Index=73, bill=25.28, tip=5.0, sex='Female', smoker='Yes', day='Sat', time='Dinner', size=2)\n",
      "Pandas(Index=74, bill=14.73, tip=2.2, sex='Female', smoker='No', day='Sat', time='Dinner', size=2)\n",
      "Pandas(Index=75, bill=10.51, tip=1.25, sex='Male', smoker='No', day='Sat', time='Dinner', size=2)\n",
      "Pandas(Index=76, bill=17.92, tip=3.08, sex='Male', smoker='Yes', day='Sat', time='Dinner', size=2)\n",
      "Pandas(Index=77, bill=27.2, tip=4.0, sex='Male', smoker='No', day='Thur', time='Lunch', size=4)\n",
      "Pandas(Index=78, bill=22.76, tip=3.0, sex='Male', smoker='No', day='Thur', time='Lunch', size=2)\n",
      "Pandas(Index=79, bill=17.29, tip=2.71, sex='Male', smoker='No', day='Thur', time='Lunch', size=2)\n",
      "Pandas(Index=80, bill=19.44, tip=3.0, sex='Male', smoker='Yes', day='Thur', time='Lunch', size=2)\n",
      "Pandas(Index=81, bill=16.66, tip=3.4, sex='Male', smoker='No', day='Thur', time='Lunch', size=2)\n",
      "Pandas(Index=82, bill=10.07, tip=1.83, sex='Female', smoker='No', day='Thur', time='Lunch', size=1)\n",
      "Pandas(Index=83, bill=32.68, tip=5.0, sex='Male', smoker='Yes', day='Thur', time='Lunch', size=2)\n",
      "Pandas(Index=84, bill=15.98, tip=2.03, sex='Male', smoker='No', day='Thur', time='Lunch', size=2)\n",
      "Pandas(Index=85, bill=34.83, tip=5.17, sex='Female', smoker='No', day='Thur', time='Lunch', size=4)\n",
      "Pandas(Index=86, bill=13.03, tip=2.0, sex='Male', smoker='No', day='Thur', time='Lunch', size=2)\n",
      "Pandas(Index=87, bill=18.28, tip=4.0, sex='Male', smoker='No', day='Thur', time='Lunch', size=2)\n",
      "Pandas(Index=88, bill=24.71, tip=5.85, sex='Male', smoker='No', day='Thur', time='Lunch', size=2)\n",
      "Pandas(Index=89, bill=21.16, tip=3.0, sex='Male', smoker='No', day='Thur', time='Lunch', size=2)\n",
      "Pandas(Index=90, bill=28.97, tip=3.0, sex='Male', smoker='Yes', day='Fri', time='Dinner', size=2)\n",
      "Pandas(Index=91, bill=22.49, tip=3.5, sex='Male', smoker='No', day='Fri', time='Dinner', size=2)\n",
      "Pandas(Index=92, bill=5.75, tip=1.0, sex='Female', smoker='Yes', day='Fri', time='Dinner', size=2)\n",
      "Pandas(Index=93, bill=16.32, tip=4.3, sex='Female', smoker='Yes', day='Fri', time='Dinner', size=2)\n",
      "Pandas(Index=94, bill=22.75, tip=3.25, sex='Female', smoker='No', day='Fri', time='Dinner', size=2)\n",
      "Pandas(Index=95, bill=40.17, tip=4.73, sex='Male', smoker='Yes', day='Fri', time='Dinner', size=4)\n",
      "Pandas(Index=96, bill=27.28, tip=4.0, sex='Male', smoker='Yes', day='Fri', time='Dinner', size=2)\n",
      "Pandas(Index=97, bill=12.03, tip=1.5, sex='Male', smoker='Yes', day='Fri', time='Dinner', size=2)\n",
      "Pandas(Index=98, bill=21.01, tip=3.0, sex='Male', smoker='Yes', day='Fri', time='Dinner', size=2)\n",
      "Pandas(Index=99, bill=12.46, tip=1.5, sex='Male', smoker='No', day='Fri', time='Dinner', size=2)\n",
      "Pandas(Index=100, bill=11.35, tip=2.5, sex='Female', smoker='Yes', day='Fri', time='Dinner', size=2)\n",
      "Pandas(Index=101, bill=15.38, tip=3.0, sex='Female', smoker='Yes', day='Fri', time='Dinner', size=2)\n",
      "Pandas(Index=102, bill=44.3, tip=2.5, sex='Female', smoker='Yes', day='Sat', time='Dinner', size=3)\n",
      "Pandas(Index=103, bill=22.42, tip=3.48, sex='Female', smoker='Yes', day='Sat', time='Dinner', size=2)\n",
      "Pandas(Index=104, bill=20.92, tip=4.08, sex='Female', smoker='No', day='Sat', time='Dinner', size=2)\n",
      "Pandas(Index=105, bill=15.36, tip=1.64, sex='Male', smoker='Yes', day='Sat', time='Dinner', size=2)\n",
      "Pandas(Index=106, bill=20.49, tip=4.06, sex='Male', smoker='Yes', day='Sat', time='Dinner', size=2)\n",
      "Pandas(Index=107, bill=25.21, tip=4.29, sex='Male', smoker='Yes', day='Sat', time='Dinner', size=2)\n",
      "Pandas(Index=108, bill=18.24, tip=3.76, sex='Male', smoker='No', day='Sat', time='Dinner', size=2)\n",
      "Pandas(Index=109, bill=14.31, tip=4.0, sex='Female', smoker='Yes', day='Sat', time='Dinner', size=2)\n",
      "Pandas(Index=110, bill=14.0, tip=3.0, sex='Male', smoker='No', day='Sat', time='Dinner', size=2)\n",
      "Pandas(Index=111, bill=7.25, tip=1.0, sex='Female', smoker='No', day='Sat', time='Dinner', size=1)\n",
      "Pandas(Index=112, bill=38.07, tip=4.0, sex='Male', smoker='No', day='Sun', time='Dinner', size=3)\n",
      "Pandas(Index=113, bill=23.95, tip=2.55, sex='Male', smoker='No', day='Sun', time='Dinner', size=2)\n",
      "Pandas(Index=114, bill=25.71, tip=4.0, sex='Female', smoker='No', day='Sun', time='Dinner', size=3)\n",
      "Pandas(Index=115, bill=17.31, tip=3.5, sex='Female', smoker='No', day='Sun', time='Dinner', size=2)\n",
      "Pandas(Index=116, bill=29.93, tip=5.07, sex='Male', smoker='No', day='Sun', time='Dinner', size=4)\n",
      "Pandas(Index=117, bill=10.65, tip=1.5, sex='Female', smoker='No', day='Thur', time='Lunch', size=2)\n",
      "Pandas(Index=118, bill=12.43, tip=1.8, sex='Female', smoker='No', day='Thur', time='Lunch', size=2)\n",
      "Pandas(Index=119, bill=24.08, tip=2.92, sex='Female', smoker='No', day='Thur', time='Lunch', size=4)\n",
      "Pandas(Index=120, bill=11.69, tip=2.31, sex='Male', smoker='No', day='Thur', time='Lunch', size=2)\n",
      "Pandas(Index=121, bill=13.42, tip=1.68, sex='Female', smoker='No', day='Thur', time='Lunch', size=2)\n",
      "Pandas(Index=122, bill=14.26, tip=2.5, sex='Male', smoker='No', day='Thur', time='Lunch', size=2)\n",
      "Pandas(Index=123, bill=15.95, tip=2.0, sex='Male', smoker='No', day='Thur', time='Lunch', size=2)\n",
      "Pandas(Index=124, bill=12.48, tip=2.52, sex='Female', smoker='No', day='Thur', time='Lunch', size=2)\n",
      "Pandas(Index=125, bill=29.8, tip=4.2, sex='Female', smoker='No', day='Thur', time='Lunch', size=6)\n",
      "Pandas(Index=126, bill=8.52, tip=1.48, sex='Male', smoker='No', day='Thur', time='Lunch', size=2)\n",
      "Pandas(Index=127, bill=14.52, tip=2.0, sex='Female', smoker='No', day='Thur', time='Lunch', size=2)\n",
      "Pandas(Index=128, bill=11.38, tip=2.0, sex='Female', smoker='No', day='Thur', time='Lunch', size=2)\n",
      "Pandas(Index=129, bill=22.82, tip=2.18, sex='Male', smoker='No', day='Thur', time='Lunch', size=3)\n",
      "Pandas(Index=130, bill=19.08, tip=1.5, sex='Male', smoker='No', day='Thur', time='Lunch', size=2)\n",
      "Pandas(Index=131, bill=20.27, tip=2.83, sex='Female', smoker='No', day='Thur', time='Lunch', size=2)\n",
      "Pandas(Index=132, bill=11.17, tip=1.5, sex='Female', smoker='No', day='Thur', time='Lunch', size=2)\n",
      "Pandas(Index=133, bill=12.26, tip=2.0, sex='Female', smoker='No', day='Thur', time='Lunch', size=2)\n",
      "Pandas(Index=134, bill=18.26, tip=3.25, sex='Female', smoker='No', day='Thur', time='Lunch', size=2)\n",
      "Pandas(Index=135, bill=8.51, tip=1.25, sex='Female', smoker='No', day='Thur', time='Lunch', size=2)\n",
      "Pandas(Index=136, bill=10.33, tip=2.0, sex='Female', smoker='No', day='Thur', time='Lunch', size=2)\n",
      "Pandas(Index=137, bill=14.15, tip=2.0, sex='Female', smoker='No', day='Thur', time='Lunch', size=2)\n",
      "Pandas(Index=138, bill=16.0, tip=2.0, sex='Male', smoker='Yes', day='Thur', time='Lunch', size=2)\n",
      "Pandas(Index=139, bill=13.16, tip=2.75, sex='Female', smoker='No', day='Thur', time='Lunch', size=2)\n",
      "Pandas(Index=140, bill=17.47, tip=3.5, sex='Female', smoker='No', day='Thur', time='Lunch', size=2)\n",
      "Pandas(Index=141, bill=34.3, tip=6.7, sex='Male', smoker='No', day='Thur', time='Lunch', size=6)\n",
      "Pandas(Index=142, bill=41.19, tip=5.0, sex='Male', smoker='No', day='Thur', time='Lunch', size=5)\n",
      "Pandas(Index=143, bill=27.05, tip=5.0, sex='Female', smoker='No', day='Thur', time='Lunch', size=6)\n",
      "Pandas(Index=144, bill=16.43, tip=2.3, sex='Female', smoker='No', day='Thur', time='Lunch', size=2)\n",
      "Pandas(Index=145, bill=8.35, tip=1.5, sex='Female', smoker='No', day='Thur', time='Lunch', size=2)\n",
      "Pandas(Index=146, bill=18.64, tip=1.36, sex='Female', smoker='No', day='Thur', time='Lunch', size=3)\n",
      "Pandas(Index=147, bill=11.87, tip=1.63, sex='Female', smoker='No', day='Thur', time='Lunch', size=2)\n",
      "Pandas(Index=148, bill=9.78, tip=1.73, sex='Male', smoker='No', day='Thur', time='Lunch', size=2)\n",
      "Pandas(Index=149, bill=7.51, tip=2.0, sex='Male', smoker='No', day='Thur', time='Lunch', size=2)\n",
      "Pandas(Index=150, bill=14.07, tip=2.5, sex='Male', smoker='No', day='Sun', time='Dinner', size=2)\n",
      "Pandas(Index=151, bill=13.13, tip=2.0, sex='Male', smoker='No', day='Sun', time='Dinner', size=2)\n",
      "Pandas(Index=152, bill=17.26, tip=2.74, sex='Male', smoker='No', day='Sun', time='Dinner', size=3)\n",
      "Pandas(Index=153, bill=24.55, tip=2.0, sex='Male', smoker='No', day='Sun', time='Dinner', size=4)\n",
      "Pandas(Index=154, bill=19.77, tip=2.0, sex='Male', smoker='No', day='Sun', time='Dinner', size=4)\n",
      "Pandas(Index=155, bill=29.85, tip=5.14, sex='Female', smoker='No', day='Sun', time='Dinner', size=5)\n",
      "Pandas(Index=156, bill=48.17, tip=5.0, sex='Male', smoker='No', day='Sun', time='Dinner', size=6)\n",
      "Pandas(Index=157, bill=25.0, tip=3.75, sex='Female', smoker='No', day='Sun', time='Dinner', size=4)\n",
      "Pandas(Index=158, bill=13.39, tip=2.61, sex='Female', smoker='No', day='Sun', time='Dinner', size=2)\n",
      "Pandas(Index=159, bill=16.49, tip=2.0, sex='Male', smoker='No', day='Sun', time='Dinner', size=4)\n",
      "Pandas(Index=160, bill=21.5, tip=3.5, sex='Male', smoker='No', day='Sun', time='Dinner', size=4)\n",
      "Pandas(Index=161, bill=12.66, tip=2.5, sex='Male', smoker='No', day='Sun', time='Dinner', size=2)\n",
      "Pandas(Index=162, bill=16.21, tip=2.0, sex='Female', smoker='No', day='Sun', time='Dinner', size=3)\n",
      "Pandas(Index=163, bill=13.81, tip=2.0, sex='Male', smoker='No', day='Sun', time='Dinner', size=2)\n",
      "Pandas(Index=164, bill=17.51, tip=3.0, sex='Female', smoker='Yes', day='Sun', time='Dinner', size=2)\n",
      "Pandas(Index=165, bill=24.52, tip=3.48, sex='Male', smoker='No', day='Sun', time='Dinner', size=3)\n",
      "Pandas(Index=166, bill=20.76, tip=2.24, sex='Male', smoker='No', day='Sun', time='Dinner', size=2)\n",
      "Pandas(Index=167, bill=31.71, tip=4.5, sex='Male', smoker='No', day='Sun', time='Dinner', size=4)\n",
      "Pandas(Index=168, bill=10.59, tip=1.61, sex='Female', smoker='Yes', day='Sat', time='Dinner', size=2)\n",
      "Pandas(Index=169, bill=10.63, tip=2.0, sex='Female', smoker='Yes', day='Sat', time='Dinner', size=2)\n",
      "Pandas(Index=170, bill=50.81, tip=10.0, sex='Male', smoker='Yes', day='Sat', time='Dinner', size=3)\n",
      "Pandas(Index=171, bill=15.81, tip=3.16, sex='Male', smoker='Yes', day='Sat', time='Dinner', size=2)\n",
      "Pandas(Index=172, bill=7.25, tip=5.15, sex='Male', smoker='Yes', day='Sun', time='Dinner', size=2)\n",
      "Pandas(Index=173, bill=31.85, tip=3.18, sex='Male', smoker='Yes', day='Sun', time='Dinner', size=2)\n",
      "Pandas(Index=174, bill=16.82, tip=4.0, sex='Male', smoker='Yes', day='Sun', time='Dinner', size=2)\n",
      "Pandas(Index=175, bill=32.9, tip=3.11, sex='Male', smoker='Yes', day='Sun', time='Dinner', size=2)\n",
      "Pandas(Index=176, bill=17.89, tip=2.0, sex='Male', smoker='Yes', day='Sun', time='Dinner', size=2)\n",
      "Pandas(Index=177, bill=14.48, tip=2.0, sex='Male', smoker='Yes', day='Sun', time='Dinner', size=2)\n",
      "Pandas(Index=178, bill=9.6, tip=4.0, sex='Female', smoker='Yes', day='Sun', time='Dinner', size=2)\n",
      "Pandas(Index=179, bill=34.63, tip=3.55, sex='Male', smoker='Yes', day='Sun', time='Dinner', size=2)\n",
      "Pandas(Index=180, bill=34.65, tip=3.68, sex='Male', smoker='Yes', day='Sun', time='Dinner', size=4)\n",
      "Pandas(Index=181, bill=23.33, tip=5.65, sex='Male', smoker='Yes', day='Sun', time='Dinner', size=2)\n",
      "Pandas(Index=182, bill=45.35, tip=3.5, sex='Male', smoker='Yes', day='Sun', time='Dinner', size=3)\n",
      "Pandas(Index=183, bill=23.17, tip=6.5, sex='Male', smoker='Yes', day='Sun', time='Dinner', size=4)\n",
      "Pandas(Index=184, bill=40.55, tip=3.0, sex='Male', smoker='Yes', day='Sun', time='Dinner', size=2)\n",
      "Pandas(Index=185, bill=20.69, tip=5.0, sex='Male', smoker='No', day='Sun', time='Dinner', size=5)\n",
      "Pandas(Index=186, bill=20.9, tip=3.5, sex='Female', smoker='Yes', day='Sun', time='Dinner', size=3)\n",
      "Pandas(Index=187, bill=30.46, tip=2.0, sex='Male', smoker='Yes', day='Sun', time='Dinner', size=5)\n",
      "Pandas(Index=188, bill=18.15, tip=3.5, sex='Female', smoker='Yes', day='Sun', time='Dinner', size=3)\n",
      "Pandas(Index=189, bill=23.1, tip=4.0, sex='Male', smoker='Yes', day='Sun', time='Dinner', size=3)\n",
      "Pandas(Index=190, bill=15.69, tip=1.5, sex='Male', smoker='Yes', day='Sun', time='Dinner', size=2)\n",
      "Pandas(Index=191, bill=19.81, tip=4.19, sex='Female', smoker='Yes', day='Thur', time='Lunch', size=2)\n",
      "Pandas(Index=192, bill=28.44, tip=2.56, sex='Male', smoker='Yes', day='Thur', time='Lunch', size=2)\n",
      "Pandas(Index=193, bill=15.48, tip=2.02, sex='Male', smoker='Yes', day='Thur', time='Lunch', size=2)\n",
      "Pandas(Index=194, bill=16.58, tip=4.0, sex='Male', smoker='Yes', day='Thur', time='Lunch', size=2)\n",
      "Pandas(Index=195, bill=7.56, tip=1.44, sex='Male', smoker='No', day='Thur', time='Lunch', size=2)\n",
      "Pandas(Index=196, bill=10.34, tip=2.0, sex='Male', smoker='Yes', day='Thur', time='Lunch', size=2)\n",
      "Pandas(Index=197, bill=43.11, tip=5.0, sex='Female', smoker='Yes', day='Thur', time='Lunch', size=4)\n",
      "Pandas(Index=198, bill=13.0, tip=2.0, sex='Female', smoker='Yes', day='Thur', time='Lunch', size=2)\n",
      "Pandas(Index=199, bill=13.51, tip=2.0, sex='Male', smoker='Yes', day='Thur', time='Lunch', size=2)\n",
      "Pandas(Index=200, bill=18.71, tip=4.0, sex='Male', smoker='Yes', day='Thur', time='Lunch', size=3)\n",
      "Pandas(Index=201, bill=12.74, tip=2.01, sex='Female', smoker='Yes', day='Thur', time='Lunch', size=2)\n",
      "Pandas(Index=202, bill=13.0, tip=2.0, sex='Female', smoker='Yes', day='Thur', time='Lunch', size=2)\n",
      "Pandas(Index=203, bill=16.4, tip=2.5, sex='Female', smoker='Yes', day='Thur', time='Lunch', size=2)\n",
      "Pandas(Index=204, bill=20.53, tip=4.0, sex='Male', smoker='Yes', day='Thur', time='Lunch', size=4)\n",
      "Pandas(Index=205, bill=16.47, tip=3.23, sex='Female', smoker='Yes', day='Thur', time='Lunch', size=3)\n",
      "Pandas(Index=206, bill=26.59, tip=3.41, sex='Male', smoker='Yes', day='Sat', time='Dinner', size=3)\n",
      "Pandas(Index=207, bill=38.73, tip=3.0, sex='Male', smoker='Yes', day='Sat', time='Dinner', size=4)\n",
      "Pandas(Index=208, bill=24.27, tip=2.03, sex='Male', smoker='Yes', day='Sat', time='Dinner', size=2)\n",
      "Pandas(Index=209, bill=12.76, tip=2.23, sex='Female', smoker='Yes', day='Sat', time='Dinner', size=2)\n",
      "Pandas(Index=210, bill=30.06, tip=2.0, sex='Male', smoker='Yes', day='Sat', time='Dinner', size=3)\n",
      "Pandas(Index=211, bill=25.89, tip=5.16, sex='Male', smoker='Yes', day='Sat', time='Dinner', size=4)\n",
      "Pandas(Index=212, bill=48.33, tip=9.0, sex='Male', smoker='No', day='Sat', time='Dinner', size=4)\n",
      "Pandas(Index=213, bill=13.27, tip=2.5, sex='Female', smoker='Yes', day='Sat', time='Dinner', size=2)\n",
      "Pandas(Index=214, bill=28.17, tip=6.5, sex='Female', smoker='Yes', day='Sat', time='Dinner', size=3)\n",
      "Pandas(Index=215, bill=12.9, tip=1.1, sex='Female', smoker='Yes', day='Sat', time='Dinner', size=2)\n",
      "Pandas(Index=216, bill=28.15, tip=3.0, sex='Male', smoker='Yes', day='Sat', time='Dinner', size=5)\n",
      "Pandas(Index=217, bill=11.59, tip=1.5, sex='Male', smoker='Yes', day='Sat', time='Dinner', size=2)\n",
      "Pandas(Index=218, bill=7.74, tip=1.44, sex='Male', smoker='Yes', day='Sat', time='Dinner', size=2)\n",
      "Pandas(Index=219, bill=30.14, tip=3.09, sex='Female', smoker='Yes', day='Sat', time='Dinner', size=4)\n",
      "Pandas(Index=220, bill=12.16, tip=2.2, sex='Male', smoker='Yes', day='Fri', time='Lunch', size=2)\n",
      "Pandas(Index=221, bill=13.42, tip=3.48, sex='Female', smoker='Yes', day='Fri', time='Lunch', size=2)\n",
      "Pandas(Index=222, bill=8.58, tip=1.92, sex='Male', smoker='Yes', day='Fri', time='Lunch', size=1)\n",
      "Pandas(Index=223, bill=15.98, tip=3.0, sex='Female', smoker='No', day='Fri', time='Lunch', size=3)\n",
      "Pandas(Index=224, bill=13.42, tip=1.58, sex='Male', smoker='Yes', day='Fri', time='Lunch', size=2)\n",
      "Pandas(Index=225, bill=16.27, tip=2.5, sex='Female', smoker='Yes', day='Fri', time='Lunch', size=2)\n",
      "Pandas(Index=226, bill=10.09, tip=2.0, sex='Female', smoker='Yes', day='Fri', time='Lunch', size=2)\n",
      "Pandas(Index=227, bill=20.45, tip=3.0, sex='Male', smoker='No', day='Sat', time='Dinner', size=4)\n",
      "Pandas(Index=228, bill=13.28, tip=2.72, sex='Male', smoker='No', day='Sat', time='Dinner', size=2)\n",
      "Pandas(Index=229, bill=22.12, tip=2.88, sex='Female', smoker='Yes', day='Sat', time='Dinner', size=2)\n",
      "Pandas(Index=230, bill=24.01, tip=2.0, sex='Male', smoker='Yes', day='Sat', time='Dinner', size=4)\n",
      "Pandas(Index=231, bill=15.69, tip=3.0, sex='Male', smoker='Yes', day='Sat', time='Dinner', size=3)\n",
      "Pandas(Index=232, bill=11.61, tip=3.39, sex='Male', smoker='No', day='Sat', time='Dinner', size=2)\n",
      "Pandas(Index=233, bill=10.77, tip=1.47, sex='Male', smoker='No', day='Sat', time='Dinner', size=2)\n",
      "Pandas(Index=234, bill=15.53, tip=3.0, sex='Male', smoker='Yes', day='Sat', time='Dinner', size=2)\n",
      "Pandas(Index=235, bill=10.07, tip=1.25, sex='Male', smoker='No', day='Sat', time='Dinner', size=2)\n",
      "Pandas(Index=236, bill=12.6, tip=1.0, sex='Male', smoker='Yes', day='Sat', time='Dinner', size=2)\n",
      "Pandas(Index=237, bill=32.83, tip=1.17, sex='Male', smoker='Yes', day='Sat', time='Dinner', size=2)\n",
      "Pandas(Index=238, bill=35.83, tip=4.67, sex='Female', smoker='No', day='Sat', time='Dinner', size=3)\n",
      "Pandas(Index=239, bill=29.03, tip=5.92, sex='Male', smoker='No', day='Sat', time='Dinner', size=3)\n",
      "Pandas(Index=240, bill=27.18, tip=2.0, sex='Female', smoker='Yes', day='Sat', time='Dinner', size=2)\n",
      "Pandas(Index=241, bill=22.67, tip=2.0, sex='Male', smoker='Yes', day='Sat', time='Dinner', size=2)\n",
      "Pandas(Index=242, bill=17.82, tip=1.75, sex='Male', smoker='No', day='Sat', time='Dinner', size=2)\n",
      "Pandas(Index=243, bill=18.78, tip=3.0, sex='Female', smoker='No', day='Thur', time='Dinner', size=2)\n"
     ]
    }
   ],
   "source": [
    "for tup in tips.itertuples():\n",
    "    print(tup)"
   ]
  }
 ],
 "metadata": {
  "kernelspec": {
   "display_name": "Python 3",
   "language": "python",
   "name": "python3"
  },
  "language_info": {
   "codemirror_mode": {
    "name": "ipython",
    "version": 3
   },
   "file_extension": ".py",
   "mimetype": "text/x-python",
   "name": "python",
   "nbconvert_exporter": "python",
   "pygments_lexer": "ipython3",
   "version": "3.8.5"
  }
 },
 "nbformat": 4,
 "nbformat_minor": 4
}
